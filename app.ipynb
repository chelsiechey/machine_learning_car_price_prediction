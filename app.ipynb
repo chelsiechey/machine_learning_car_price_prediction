{
 "cells": [
  {
   "cell_type": "markdown",
   "id": "6cd77f61",
   "metadata": {},
   "source": [
    "# C964 Capstone Project\n",
    "## Used Car Price Prediction for a Car Dealership\n",
    "#### Chelsie Conrad #001130463"
   ]
  },
  {
   "cell_type": "markdown",
   "id": "9add7c53",
   "metadata": {},
   "source": [
    "**Use the following input fields to get an estimated car price for your vehicle:**"
   ]
  },
  {
   "cell_type": "code",
   "execution_count": 6,
   "id": "866a44b7",
   "metadata": {},
   "outputs": [],
   "source": [
    "import numpy as np\n",
    "import matplotlib.pyplot as plt\n",
    "from ipywidgets import interactive\n",
    "%matplotlib inline"
   ]
  },
  {
   "cell_type": "code",
   "execution_count": 7,
   "id": "4227d19e",
   "metadata": {},
   "outputs": [
    {
     "data": {
      "application/vnd.jupyter.widget-view+json": {
       "model_id": "c4e432ad86ca4f38a60ca2e1d346b330",
       "version_major": 2,
       "version_minor": 0
      },
      "text/plain": [
       "BoundedIntText(value=0, description='Year:', max=2022)"
      ]
     },
     "metadata": {},
     "output_type": "display_data"
    },
    {
     "data": {
      "application/vnd.jupyter.widget-view+json": {
       "model_id": "e8ae5bfc660d45aca1cb5d3d078ad3f3",
       "version_major": 2,
       "version_minor": 0
      },
      "text/plain": [
       "BoundedFloatText(value=0.0, description='Mileage:', max=1000000000.0, step=1000.0)"
      ]
     },
     "metadata": {},
     "output_type": "display_data"
    },
    {
     "data": {
      "application/vnd.jupyter.widget-view+json": {
       "model_id": "35f87473b30f4918aa2fa814a0166c60",
       "version_major": 2,
       "version_minor": 0
      },
      "text/plain": [
       "Checkbox(value=False, description='Is this car automatic?:', indent=False)"
      ]
     },
     "metadata": {},
     "output_type": "display_data"
    },
    {
     "data": {
      "application/vnd.jupyter.widget-view+json": {
       "model_id": "3bda8a63c5c340988fbe84be496625e4",
       "version_major": 2,
       "version_minor": 0
      },
      "text/plain": [
       "Label(value='Please enter details about your vehicle')"
      ]
     },
     "metadata": {},
     "output_type": "display_data"
    }
   ],
   "source": [
    "import os\n",
    "import pandas as pd\n",
    "from sklearn.tree import DecisionTreeRegressor\n",
    "from sklearn.model_selection import train_test_split\n",
    "from sklearn.metrics import mean_absolute_error\n",
    "import ipywidgets as widgets\n",
    "from IPython.display import display\n",
    "\n",
    "# Path to car dataset\n",
    "car_data_file_path = '../input/usedcarscatalog/cars.csv'\n",
    "\n",
    "car_data = pd.read_csv('./cars.csv')\n",
    "\n",
    "# Assign the prediction target\n",
    "y = car_data.price_usd\n",
    "\n",
    "# Choose features\n",
    "car_features = ['transmission', 'year_produced', 'odometer_value']\n",
    "\n",
    "# Assign the data we'll be using to predict car prices to X\n",
    "X = pd.get_dummies(car_data[car_features])\n",
    "\n",
    "# Split the data so it can be used to validate the model\n",
    "# Variables starting with train_ are use to fit the model\n",
    "# Variables starting with val_ are used to validate the model\n",
    "train_X, val_X, train_y, val_y = train_test_split(X, y, random_state = 1)\n",
    "\n",
    "# Specify model\n",
    "# max_leaf_nodes controls the trees depth\n",
    "# the value was chosen as a sweet spot between underfitting and overfitting\n",
    "# Overfitting: capturing spurious patterns that won't recur in the future, leading to less accurate predictions, or\n",
    "# Underfitting: failing to capture relevant patterns, again leading to less accurate predictions.\n",
    "car_price_prediction_model = DecisionTreeRegressor(max_leaf_nodes=110, random_state=1)\n",
    "\n",
    "# Fit model\n",
    "car_price_prediction_model.fit(train_X, train_y)\n",
    "\n",
    "# UI\n",
    "mileage_input = widgets.BoundedFloatText(\n",
    "    value=0.0,\n",
    "    min=0,\n",
    "    max=1000000000.0,\n",
    "    step=1000.0,\n",
    "    description='Mileage:',\n",
    "    disabled=False\n",
    ")\n",
    "\n",
    "year_input = widgets.BoundedIntText(\n",
    "    min=0,\n",
    "    max=2022,\n",
    "    step=1,\n",
    "    description='Year:',\n",
    "    disabled=False\n",
    ")\n",
    "\n",
    "is_automatic_input = widgets.Checkbox(\n",
    "    value=False,\n",
    "    description='Is this car automatic?:',\n",
    "    disabled=False,\n",
    "    indent=False\n",
    ")\n",
    "caption = widgets.Label(value='Please enter details about your vehicle')\n",
    "display(year_input)\n",
    "display(mileage_input)\n",
    "display(is_automatic_input)\n",
    "display(caption)\n",
    "def on_value_change(change):\n",
    "    customer_data = [[year_input.value, mileage_input.value, is_automatic_input.value, not is_automatic_input.value]]\n",
    "    customer_df = pd.DataFrame(customer_data, columns = [\n",
    "        'year_produced', 'odometer_value', 'transmission_automatic','transmission_mechanical'\n",
    "    ])\n",
    "    customer_prediction = car_price_prediction_model.predict(customer_df)\n",
    "    caption.value = 'Your car from ' + str(year_input.value) + ' with ' + str(mileage_input.value) + ' miles has an estimated value of ' + str(customer_prediction[0])\n",
    "\n",
    "year_input.observe(on_value_change, names='value')\n",
    "mileage_input.observe(on_value_change, names='value')\n",
    "is_automatic_input.observe(on_value_change, names='value')"
   ]
  },
  {
   "cell_type": "markdown",
   "id": "b7127266",
   "metadata": {},
   "source": [
    "**Deep dive into the data**"
   ]
  },
  {
   "cell_type": "markdown",
   "id": "935a5210",
   "metadata": {},
   "source": [
    "The following table shows some basic statistical details for the features that were inputted into the model, including different measures of center such as mean, median, and mode.<br>\n",
    "**Features** are the columns represented in the table and are the input to the model used to make predictions."
   ]
  },
  {
   "cell_type": "code",
   "execution_count": 8,
   "id": "452f9c4d",
   "metadata": {},
   "outputs": [
    {
     "data": {
      "text/html": [
       "<div>\n",
       "<style scoped>\n",
       "    .dataframe tbody tr th:only-of-type {\n",
       "        vertical-align: middle;\n",
       "    }\n",
       "\n",
       "    .dataframe tbody tr th {\n",
       "        vertical-align: top;\n",
       "    }\n",
       "\n",
       "    .dataframe thead th {\n",
       "        text-align: right;\n",
       "    }\n",
       "</style>\n",
       "<table border=\"1\" class=\"dataframe\">\n",
       "  <thead>\n",
       "    <tr style=\"text-align: right;\">\n",
       "      <th></th>\n",
       "      <th>year_produced</th>\n",
       "      <th>odometer_value</th>\n",
       "      <th>transmission_automatic</th>\n",
       "      <th>transmission_mechanical</th>\n",
       "    </tr>\n",
       "  </thead>\n",
       "  <tbody>\n",
       "    <tr>\n",
       "      <th>count</th>\n",
       "      <td>28898</td>\n",
       "      <td>28898</td>\n",
       "      <td>28898</td>\n",
       "      <td>28898</td>\n",
       "    </tr>\n",
       "    <tr>\n",
       "      <th>mean</th>\n",
       "      <td>2002.96</td>\n",
       "      <td>248263</td>\n",
       "      <td>0.334106</td>\n",
       "      <td>0.665894</td>\n",
       "    </tr>\n",
       "    <tr>\n",
       "      <th>std</th>\n",
       "      <td>8.04658</td>\n",
       "      <td>135396</td>\n",
       "      <td>0.471685</td>\n",
       "      <td>0.471685</td>\n",
       "    </tr>\n",
       "    <tr>\n",
       "      <th>min</th>\n",
       "      <td>1956</td>\n",
       "      <td>0</td>\n",
       "      <td>0</td>\n",
       "      <td>0</td>\n",
       "    </tr>\n",
       "    <tr>\n",
       "      <th>25%</th>\n",
       "      <td>1998</td>\n",
       "      <td>157000</td>\n",
       "      <td>0</td>\n",
       "      <td>0</td>\n",
       "    </tr>\n",
       "    <tr>\n",
       "      <th>50%</th>\n",
       "      <td>2003</td>\n",
       "      <td>250000</td>\n",
       "      <td>0</td>\n",
       "      <td>1</td>\n",
       "    </tr>\n",
       "    <tr>\n",
       "      <th>75%</th>\n",
       "      <td>2009</td>\n",
       "      <td>323539</td>\n",
       "      <td>1</td>\n",
       "      <td>1</td>\n",
       "    </tr>\n",
       "    <tr>\n",
       "      <th>max</th>\n",
       "      <td>2019</td>\n",
       "      <td>1e+06</td>\n",
       "      <td>1</td>\n",
       "      <td>1</td>\n",
       "    </tr>\n",
       "  </tbody>\n",
       "</table>\n",
       "</div>"
      ],
      "text/plain": [
       "      year_produced odometer_value transmission_automatic  \\\n",
       "count         28898          28898                  28898   \n",
       "mean        2002.96         248263               0.334106   \n",
       "std         8.04658         135396               0.471685   \n",
       "min            1956              0                      0   \n",
       "25%            1998         157000                      0   \n",
       "50%            2003         250000                      0   \n",
       "75%            2009         323539                      1   \n",
       "max            2019          1e+06                      1   \n",
       "\n",
       "      transmission_mechanical  \n",
       "count                   28898  \n",
       "mean                 0.665894  \n",
       "std                  0.471685  \n",
       "min                         0  \n",
       "25%                         0  \n",
       "50%                         1  \n",
       "75%                         1  \n",
       "max                         1  "
      ]
     },
     "execution_count": 8,
     "metadata": {},
     "output_type": "execute_result"
    }
   ],
   "source": [
    "train_X.describe().apply(lambda s: s.apply(lambda x: format(x, 'g')))"
   ]
  },
  {
   "cell_type": "code",
   "execution_count": 9,
   "id": "fdecd997",
   "metadata": {},
   "outputs": [
    {
     "data": {
      "text/plain": [
       "<AxesSubplot:xlabel='year_produced', ylabel='price_usd'>"
      ]
     },
     "execution_count": 9,
     "metadata": {},
     "output_type": "execute_result"
    },
    {
     "data": {
      "image/png": "[encoded data removed]",
      "text/plain": [
       "<Figure size 432x288 with 1 Axes>"
      ]
     },
     "metadata": {
      "needs_background": "light"
     },
     "output_type": "display_data"
    }
   ],
   "source": [
    "import seaborn as sns\n",
    "sns.scatterplot(x=car_data['year_produced'], y=car_data['price_usd'])"
   ]
  },
  {
   "cell_type": "markdown",
   "id": "5bd9abfa",
   "metadata": {},
   "source": [
    "The pie chart belows shows the portion of the cars in the sample data that had an automatic or mechanical transmission."
   ]
  },
  {
   "cell_type": "code",
   "execution_count": 10,
   "id": "714d6db1",
   "metadata": {},
   "outputs": [
    {
     "data": {
      "image/png": "[encoded data removed]",
      "text/plain": [
       "<Figure size 432x288 with 1 Axes>"
      ]
     },
     "metadata": {},
     "output_type": "display_data"
    }
   ],
   "source": [
    "X['transmission_automatic'].value_counts().head(10).plot.pie(title = \"Transmission\", autopct=\"%.2f\", labels = ([\"Mechanical\", \"Automatic\"]))\n",
    "\n",
    "# Unsquish the pie.\n",
    "import matplotlib.pyplot as plt\n",
    "plt.gca().set_aspect('equal')\n",
    "plt.legend()\n",
    "plt.ylabel(\"\")\n",
    "plt.show() "
   ]
  },
  {
   "cell_type": "markdown",
   "id": "e5945d7d",
   "metadata": {},
   "source": [
    "**Model Validation**"
   ]
  },
  {
   "cell_type": "code",
   "execution_count": 11,
   "id": "47e4f161",
   "metadata": {},
   "outputs": [
    {
     "name": "stdout",
     "output_type": "stream",
     "text": [
      "The Mean Absolute Error of this model is $2229.81. This means that, on average, predictions generated by this model are off by about $2229.81\n"
     ]
    }
   ],
   "source": [
    "# Model Validation\n",
    "# the relevant measure of model quality is predictive accuracy\n",
    "# There are many metrics for summarizing model quality, one of which is called Mean Absolute Error (also called MAE)\n",
    "# error = actual − predicted\n",
    "# MAE can be thought of as: \"On average, our predictions are off by about X.\"\n",
    "\n",
    "# Get predictions to validate the model\n",
    "val_predictions = car_price_prediction_model.predict(val_X)\n",
    "\n",
    "val_mae = mean_absolute_error(val_y, val_predictions)\n",
    "string_mae = \"{:.2f}\".format(val_mae)\n",
    "print('The Mean Absolute Error of this model is $' + string_mae + '. This means that, on average, predictions generated by this model are off by about $' + string_mae)"
   ]
  },
  {
   "cell_type": "code",
   "execution_count": null,
   "id": "28fdf23d",
   "metadata": {},
   "outputs": [],
   "source": []
  }
 ],
 "metadata": {
  "kernelspec": {
   "display_name": "Python 3 (ipykernel)",
   "language": "python",
   "name": "python3"
  },
  "language_info": {
   "codemirror_mode": {
    "name": "ipython",
    "version": 3
   },
   "file_extension": ".py",
   "mimetype": "text/x-python",
   "name": "python",
   "nbconvert_exporter": "python",
   "pygments_lexer": "ipython3",
   "version": "3.9.7"
  }
 },
 "nbformat": 4,
 "nbformat_minor": 5
}
